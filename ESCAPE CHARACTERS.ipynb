{
 "cells": [
  {
   "cell_type": "code",
   "execution_count": 1,
   "metadata": {},
   "outputs": [
    {
     "name": "stdout",
     "output_type": "stream",
     "text": [
      "hello world\n"
     ]
    }
   ],
   "source": [
    "print('hello world')"
   ]
  },
  {
   "cell_type": "code",
   "execution_count": 2,
   "metadata": {},
   "outputs": [
    {
     "name": "stdout",
     "output_type": "stream",
     "text": [
      "12345\n"
     ]
    }
   ],
   "source": [
    "print(12345)"
   ]
  },
  {
   "cell_type": "code",
   "execution_count": 3,
   "metadata": {},
   "outputs": [
    {
     "name": "stdout",
     "output_type": "stream",
     "text": [
      "False\n"
     ]
    }
   ],
   "source": [
    "print(False)"
   ]
  },
  {
   "cell_type": "code",
   "execution_count": 4,
   "metadata": {},
   "outputs": [
    {
     "name": "stdout",
     "output_type": "stream",
     "text": [
      "hello world 12345 False\n"
     ]
    }
   ],
   "source": [
    "print(\"hello world\" , 12345 , False)"
   ]
  },
  {
   "cell_type": "code",
   "execution_count": 5,
   "metadata": {},
   "outputs": [
    {
     "name": "stdout",
     "output_type": "stream",
     "text": [
      "hello world  12345  False\n"
     ]
    }
   ],
   "source": [
    "print(\"hello world\" , 12345 , False , sep = \"  \")"
   ]
  },
  {
   "cell_type": "code",
   "execution_count": 8,
   "metadata": {},
   "outputs": [
    {
     "name": "stdout",
     "output_type": "stream",
     "text": [
      "hello world MoOdY-KiLler 12345 MoOdY-KiLler False\n"
     ]
    }
   ],
   "source": [
    "print(\"hello world\" , 12345 , False , sep = \" MoOdY-KiLler \")"
   ]
  },
  {
   "cell_type": "markdown",
   "metadata": {},
   "source": [
    "# ESCAPE CHARACTERS\n",
    "There are 14 \"ESCAPE CHARACTERS\""
   ]
  },
  {
   "cell_type": "code",
   "execution_count": 25,
   "metadata": {},
   "outputs": [
    {
     "name": "stdout",
     "output_type": "stream",
     "text": [
      "bilal raza\n",
      "ahmed raza\tfaizan\n"
     ]
    }
   ],
   "source": [
    "print(\"bilal raza\" , end = \"\\n\")#1\n",
    "print(\"ahmed raza\" , end = \"\\t\")#2\n",
    "print(\"faizan\")\n"
   ]
  },
  {
   "cell_type": "code",
   "execution_count": 26,
   "metadata": {},
   "outputs": [
    {
     "name": "stdout",
     "output_type": "stream",
     "text": [
      "hello world'"
     ]
    }
   ],
   "source": [
    "print(\"hello world\" , end = \"\\'\")#3"
   ]
  },
  {
   "cell_type": "code",
   "execution_count": 27,
   "metadata": {},
   "outputs": [
    {
     "name": "stdout",
     "output_type": "stream",
     "text": [
      "hamza raza\b"
     ]
    }
   ],
   "source": [
    "print(\"hamza raza\" , end = \"\\b\")#4"
   ]
  },
  {
   "cell_type": "code",
   "execution_count": 28,
   "metadata": {},
   "outputs": [
    {
     "name": "stdout",
     "output_type": "stream",
     "text": [
      "hasan raza\u0007"
     ]
    }
   ],
   "source": [
    "print(\"hasan raza\" , end = \"\\a\")#5"
   ]
  },
  {
   "cell_type": "code",
   "execution_count": 29,
   "metadata": {},
   "outputs": [
    {
     "name": "stdout",
     "output_type": "stream",
     "text": [
      "maaz\""
     ]
    }
   ],
   "source": [
    "print(\"maaz\" , end = '\\\"')#6"
   ]
  },
  {
   "cell_type": "code",
   "execution_count": 30,
   "metadata": {},
   "outputs": [
    {
     "name": "stdout",
     "output_type": "stream",
     "text": [
      "piaic\r"
     ]
    }
   ],
   "source": [
    "print(\"piaic\" , end = \"\\r\")#7"
   ]
  },
  {
   "cell_type": "code",
   "execution_count": 31,
   "metadata": {},
   "outputs": [
    {
     "name": "stdout",
     "output_type": "stream",
     "text": [
      "saylani\\"
     ]
    }
   ],
   "source": [
    "print(\"saylani\" , end = '\\\\')#8"
   ]
  },
  {
   "cell_type": "code",
   "execution_count": 35,
   "metadata": {},
   "outputs": [
    {
     "name": "stdout",
     "output_type": "stream",
     "text": [
      "imran khan\f"
     ]
    }
   ],
   "source": [
    "print(\"imran khan\" , end = \"\\f\")#9\n"
   ]
  },
  {
   "cell_type": "code",
   "execution_count": 36,
   "metadata": {},
   "outputs": [
    {
     "name": "stdout",
     "output_type": "stream",
     "text": [
      "imran\f",
      "khan\n"
     ]
    }
   ],
   "source": [
    "print(\"imran\\fkhan\")"
   ]
  },
  {
   "cell_type": "code",
   "execution_count": 51,
   "metadata": {},
   "outputs": [
    {
     "name": "stdout",
     "output_type": "stream",
     "text": [
      "baba몺"
     ]
    }
   ],
   "source": [
    "print(\"baba\" , end = \"\\ubaba\")#10"
   ]
  },
  {
   "cell_type": "code",
   "execution_count": 54,
   "metadata": {},
   "outputs": [
    {
     "name": "stdout",
     "output_type": "stream",
     "text": [
      "aaaaaaaaꪪ"
     ]
    }
   ],
   "source": [
    "print(\"aaaaaaaa\" , end = \"\\uaaaa\")#11"
   ]
  },
  {
   "cell_type": "code",
   "execution_count": 59,
   "metadata": {},
   "outputs": [
    {
     "name": "stdout",
     "output_type": "stream",
     "text": [
      "bat\\obat"
     ]
    }
   ],
   "source": [
    "print(\"bat\" , end  = \"\\obat\")#12"
   ]
  },
  {
   "cell_type": "code",
   "execution_count": 60,
   "metadata": {},
   "outputs": [
    {
     "name": "stdout",
     "output_type": "stream",
     "text": [
      "hamza†"
     ]
    }
   ],
   "source": [
    "print(\"hamza\" , end = \"\\N{DAGGER}\")#13"
   ]
  },
  {
   "cell_type": "code",
   "execution_count": 61,
   "metadata": {},
   "outputs": [
    {
     "name": "stdout",
     "output_type": "stream",
     "text": [
      "786"
     ]
    }
   ],
   "source": [
    "print(\"786\" , end = \"\\x88\")#14"
   ]
  },
  {
   "cell_type": "code",
   "execution_count": 62,
   "metadata": {},
   "outputs": [
    {
     "name": "stdout",
     "output_type": "stream",
     "text": [
      "786"
     ]
    }
   ],
   "source": [
    "print(\"786\" , end = \"\\x99\")#14"
   ]
  },
  {
   "cell_type": "code",
   "execution_count": 63,
   "metadata": {},
   "outputs": [
    {
     "name": "stdout",
     "output_type": "stream",
     "text": [
      "786w"
     ]
    }
   ],
   "source": [
    "print(\"786\" , end = \"\\x77\")#14"
   ]
  },
  {
   "cell_type": "code",
   "execution_count": 64,
   "metadata": {},
   "outputs": [
    {
     "name": "stdout",
     "output_type": "stream",
     "text": [
      "786f"
     ]
    }
   ],
   "source": [
    "print(\"786\" , end = \"\\x66\")#14"
   ]
  },
  {
   "cell_type": "code",
   "execution_count": 65,
   "metadata": {},
   "outputs": [
    {
     "name": "stdout",
     "output_type": "stream",
     "text": [
      "786U"
     ]
    }
   ],
   "source": [
    "print(\"786\" , end = \"\\x55\")#14"
   ]
  },
  {
   "cell_type": "code",
   "execution_count": 66,
   "metadata": {},
   "outputs": [
    {
     "name": "stdout",
     "output_type": "stream",
     "text": [
      "786D"
     ]
    }
   ],
   "source": [
    "print(\"786\" , end = \"\\x44\")#14"
   ]
  },
  {
   "cell_type": "code",
   "execution_count": 67,
   "metadata": {},
   "outputs": [
    {
     "name": "stdout",
     "output_type": "stream",
     "text": [
      "7863"
     ]
    }
   ],
   "source": [
    "print(\"786\" , end = \"\\x33\")#14"
   ]
  },
  {
   "cell_type": "code",
   "execution_count": 68,
   "metadata": {},
   "outputs": [
    {
     "name": "stdout",
     "output_type": "stream",
     "text": [
      "786\""
     ]
    }
   ],
   "source": [
    "print(\"786\" , end = \"\\x22\")#14"
   ]
  },
  {
   "cell_type": "code",
   "execution_count": 69,
   "metadata": {},
   "outputs": [
    {
     "name": "stdout",
     "output_type": "stream",
     "text": [
      "786\u0011"
     ]
    }
   ],
   "source": [
    "print(\"786\" , end = \"\\x11\")#14"
   ]
  },
  {
   "cell_type": "code",
   "execution_count": 70,
   "metadata": {},
   "outputs": [
    {
     "name": "stdout",
     "output_type": "stream",
     "text": [
      "786\u0000"
     ]
    }
   ],
   "source": [
    "print(\"786\" , end = \"\\x00\")#14"
   ]
  },
  {
   "cell_type": "code",
   "execution_count": 71,
   "metadata": {},
   "outputs": [
    {
     "name": "stdout",
     "output_type": "stream",
     "text": [
      "786\u0019"
     ]
    }
   ],
   "source": [
    "print(\"786\" , end = \"\\x19\")#14"
   ]
  },
  {
   "cell_type": "code",
   "execution_count": 72,
   "metadata": {},
   "outputs": [
    {
     "name": "stdout",
     "output_type": "stream",
     "text": [
      "786\u0018"
     ]
    }
   ],
   "source": [
    "print(\"786\" , end = \"\\x18\")#14"
   ]
  },
  {
   "cell_type": "markdown",
   "metadata": {},
   "source": [
    "# CONCATENATION"
   ]
  },
  {
   "cell_type": "code",
   "execution_count": 73,
   "metadata": {},
   "outputs": [],
   "source": [
    "x = 2\n",
    "y = 1468\n",
    "z = x + y"
   ]
  },
  {
   "cell_type": "code",
   "execution_count": 75,
   "metadata": {},
   "outputs": [
    {
     "name": "stdout",
     "output_type": "stream",
     "text": [
      "1470\n"
     ]
    }
   ],
   "source": [
    "print(z)"
   ]
  },
  {
   "cell_type": "code",
   "execution_count": 76,
   "metadata": {},
   "outputs": [],
   "source": [
    "x = 2\n",
    "y = \"hasan\"\n",
    "z = str(x) + y"
   ]
  },
  {
   "cell_type": "code",
   "execution_count": 77,
   "metadata": {},
   "outputs": [
    {
     "name": "stdout",
     "output_type": "stream",
     "text": [
      "2hasan\n"
     ]
    }
   ],
   "source": [
    "print(z)"
   ]
  },
  {
   "cell_type": "code",
   "execution_count": 78,
   "metadata": {},
   "outputs": [],
   "source": [
    "name = 'hasan'"
   ]
  },
  {
   "cell_type": "code",
   "execution_count": 79,
   "metadata": {},
   "outputs": [
    {
     "data": {
      "text/plain": [
       "72930208"
      ]
     },
     "execution_count": 79,
     "metadata": {},
     "output_type": "execute_result"
    }
   ],
   "source": [
    "id(name)"
   ]
  },
  {
   "cell_type": "code",
   "execution_count": 82,
   "metadata": {},
   "outputs": [
    {
     "name": "stdout",
     "output_type": "stream",
     "text": [
      "My name is hasan raza and my age is 18\n"
     ]
    }
   ],
   "source": [
    "name = \"hasan raza\"\n",
    "age = 18\n",
    "print(\"My name is \"  + name + \" and my age is \" + str( age ) )"
   ]
  },
  {
   "cell_type": "code",
   "execution_count": 83,
   "metadata": {},
   "outputs": [
    {
     "name": "stdout",
     "output_type": "stream",
     "text": [
      "What is your name?bilal raza\n",
      "What is your age?22\n",
      "My name is bilal raza and my age is 22\n"
     ]
    }
   ],
   "source": [
    "name = input(\"What is your name?\")\n",
    "age =  input(\"What is your age?\")\n",
    "print(\"My name is \" + name + \" and my age is \" + str(age) )"
   ]
  },
  {
   "cell_type": "code",
   "execution_count": 85,
   "metadata": {},
   "outputs": [
    {
     "name": "stdout",
     "output_type": "stream",
     "text": [
      "What is your name?bilal raza\n",
      "What is your age?22\n",
      "My name is  bilal raza  and my age is  22\n"
     ]
    }
   ],
   "source": [
    "name = input(\"What is your name?\")\n",
    "age =  input(\"What is your age?\")\n",
    "print(\"My name is  {}  and my age is  {}\" .format(name , age) )"
   ]
  },
  {
   "cell_type": "code",
   "execution_count": 86,
   "metadata": {},
   "outputs": [
    {
     "name": "stdout",
     "output_type": "stream",
     "text": [
      "What is your name?bilal raza\n",
      "What is your age?22\n",
      "My name is  bilal raza  and my age is  22\n"
     ]
    }
   ],
   "source": [
    "name = input(\"What is your name?\")\n",
    "age =  input(\"What is your age?\")\n",
    "print(\"My name is  {0}  and my age is  {1}\" .format(name , age) )"
   ]
  },
  {
   "cell_type": "code",
   "execution_count": null,
   "metadata": {},
   "outputs": [],
   "source": []
  }
 ],
 "metadata": {
  "kernelspec": {
   "display_name": "Python 3",
   "language": "python",
   "name": "python3"
  },
  "language_info": {
   "codemirror_mode": {
    "name": "ipython",
    "version": 3
   },
   "file_extension": ".py",
   "mimetype": "text/x-python",
   "name": "python",
   "nbconvert_exporter": "python",
   "pygments_lexer": "ipython3",
   "version": "3.7.3"
  }
 },
 "nbformat": 4,
 "nbformat_minor": 2
}
