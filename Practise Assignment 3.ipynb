{
 "cells": [
  {
   "cell_type": "markdown",
   "metadata": {},
   "source": [
    "# Q1:"
   ]
  },
  {
   "cell_type": "markdown",
   "metadata": {},
   "source": [
    "Think of at least three kinds of your favorite pizza. Store these pizza names in a list, and then use a for loop to print the name of each pizza."
   ]
  },
  {
   "cell_type": "code",
   "execution_count": 1,
   "metadata": {},
   "outputs": [],
   "source": [
    "pizzas = ['pepperoni' , 'chicken alfredo' , 'beaf' ]"
   ]
  },
  {
   "cell_type": "code",
   "execution_count": 2,
   "metadata": {},
   "outputs": [
    {
     "name": "stdout",
     "output_type": "stream",
     "text": [
      "pepperoni\n",
      "chicken alfredo\n",
      "beaf\n"
     ]
    }
   ],
   "source": [
    "for pizza in pizzas:\n",
    "    print(pizza)"
   ]
  },
  {
   "cell_type": "markdown",
   "metadata": {},
   "source": [
    "# Q2"
   ]
  },
  {
   "cell_type": "markdown",
   "metadata": {},
   "source": [
    "Start with your last question , Modify your for loop to print a sentence using the name of the pizza\n",
    "instead of printing just the name of the pizza. For each pizza you should\n",
    "have one line of output containing a simple statement like I like pepperoni\n",
    "pizza."
   ]
  },
  {
   "cell_type": "code",
   "execution_count": 3,
   "metadata": {},
   "outputs": [
    {
     "name": "stdout",
     "output_type": "stream",
     "text": [
      "i like pepperoni pizza.\n",
      "i like chicken alfredo pizza.\n",
      "i like beaf pizza.\n"
     ]
    }
   ],
   "source": [
    "pizzas = ['pepperoni' , 'chicken alfredo' , 'beaf' ]\n",
    "for i in pizzas:\n",
    "    greet = \"i like \" + i + \" pizza.\"\n",
    "    print(greet)\n",
    "    "
   ]
  },
  {
   "cell_type": "markdown",
   "metadata": {},
   "source": [
    "# Q3:"
   ]
  },
  {
   "cell_type": "markdown",
   "metadata": {},
   "source": [
    "Use a for loop to print the numbers from 1 to 20,\n",
    "inclusive."
   ]
  },
  {
   "cell_type": "code",
   "execution_count": 4,
   "metadata": {},
   "outputs": [
    {
     "name": "stdout",
     "output_type": "stream",
     "text": [
      "0 1 2 3 4 5 6 7 8 9 10 11 12 13 14 15 16 17 18 19 20 "
     ]
    }
   ],
   "source": [
    "for num in range(21):\n",
    "    print(num , end = ' ')"
   ]
  },
  {
   "cell_type": "markdown",
   "metadata": {},
   "source": [
    "# Q4:"
   ]
  },
  {
   "cell_type": "markdown",
   "metadata": {},
   "source": [
    "Use the third argument of the range() function to make a list\n",
    "of the odd numbers from 1 to 20. Use a for loop to print each number."
   ]
  },
  {
   "cell_type": "code",
   "execution_count": 5,
   "metadata": {},
   "outputs": [
    {
     "name": "stdout",
     "output_type": "stream",
     "text": [
      "1 3 5 7 9 11 13 15 17 19 "
     ]
    }
   ],
   "source": [
    "for num in range(1,20,2):\n",
    "    print(num, end=' ')"
   ]
  },
  {
   "cell_type": "markdown",
   "metadata": {},
   "source": [
    "# Q5:"
   ]
  },
  {
   "cell_type": "markdown",
   "metadata": {},
   "source": [
    "Make a list of the multiples of 3 from 3 to 30. Use a for loop to\n",
    "print the numbers in your list."
   ]
  },
  {
   "cell_type": "code",
   "execution_count": 6,
   "metadata": {},
   "outputs": [
    {
     "name": "stdout",
     "output_type": "stream",
     "text": [
      "3 6 9 12 15 18 21 24 27 "
     ]
    }
   ],
   "source": [
    "for num in range(3,30,3):\n",
    "    print(num, end=' ')\n"
   ]
  },
  {
   "cell_type": "markdown",
   "metadata": {},
   "source": [
    "# Q6:"
   ]
  },
  {
   "cell_type": "markdown",
   "metadata": {},
   "source": [
    "A number raised to the third power is called a cube. For example,\n",
    "the cube of 2 is written as 2**3 in Python. Make a list of the first 10 cubes (that\n",
    "is, the cube of each integer from 1 through 10), and use a for loop to print out\n",
    "the value of each cube"
   ]
  },
  {
   "cell_type": "code",
   "execution_count": 7,
   "metadata": {},
   "outputs": [
    {
     "name": "stdout",
     "output_type": "stream",
     "text": [
      "1 8 27 64 125 216 343 512 729 1000 "
     ]
    }
   ],
   "source": [
    "for num in range(1,11):\n",
    "    cubes = num**3\n",
    "    print(cubes, end=' ')\n"
   ]
  },
  {
   "cell_type": "markdown",
   "metadata": {},
   "source": [
    "# Q7:"
   ]
  },
  {
   "cell_type": "markdown",
   "metadata": {},
   "source": [
    "###### Make a python program that conatains your nine favourite dishes in a list called foods.\n",
    "\n",
    "###### Print the message, The first three items in the list are:. \n",
    "###### Then use a slice to print the first three items from that program’s list.\n",
    "\n",
    "###### Print the message, Three items from the middle of the list are:\n",
    "###### Use a slice to print three items from the middle of the list.\n",
    "\n",
    "###### Print the message, The last three items in the list are:\n",
    "###### Use a slice to print the last three items in the list."
   ]
  },
  {
   "cell_type": "code",
   "execution_count": 8,
   "metadata": {},
   "outputs": [],
   "source": [
    "foods = ['biryani' , 'qorma' , 'fried_fish' , 'pizza' , 'tikka' , 'white_karahi' , 'malai_boti' , 'dhaga_kabab' , 'chicken']"
   ]
  },
  {
   "cell_type": "code",
   "execution_count": 9,
   "metadata": {},
   "outputs": [
    {
     "name": "stdout",
     "output_type": "stream",
     "text": [
      "The first three items in the list are:['biryani', 'qorma', 'fried_fish']\n"
     ]
    }
   ],
   "source": [
    "F_3 = foods[0:3]\n",
    "print(f\"The first three items in the list are:{F_3}\")"
   ]
  },
  {
   "cell_type": "code",
   "execution_count": 12,
   "metadata": {},
   "outputs": [
    {
     "name": "stdout",
     "output_type": "stream",
     "text": [
      "The middle three items in the list are:['pizza', 'tikka', 'white_karahi']\n"
     ]
    }
   ],
   "source": [
    "M_3 = foods[3:6]\n",
    "print(f\"The middle three items in the list are:{M_3}\")"
   ]
  },
  {
   "cell_type": "code",
   "execution_count": 16,
   "metadata": {},
   "outputs": [
    {
     "name": "stdout",
     "output_type": "stream",
     "text": [
      "The Last three items in the list are:['malai_boti', 'dhaga_kabab', 'chicken']\n"
     ]
    }
   ],
   "source": [
    "L_3 = foods[6:9]\n",
    "print(f\"The Last three items in the list are:{L_3}\")"
   ]
  },
  {
   "cell_type": "markdown",
   "metadata": {},
   "source": [
    "# Q8:"
   ]
  },
  {
   "cell_type": "markdown",
   "metadata": {},
   "source": [
    "### Start with your program from your last Question8.\n",
    "###### Make a copy of the list of foods, and call it friend_foods.\n",
    "###### Then, do the following:\n",
    "######    Add a new dish to the original list.\n",
    "######    Add a different dish to the list friend_foodss.\n",
    "######    Prove that you have two separate lists. \n",
    "###### Print the message, My favorite pizzas are: and then use a for loop to print the first list. \n",
    "###### Print the message,\n",
    "###### My friend’s favorite foods are:, and then use a for loop to print the second list.\n",
    "    \n",
    "##### NOTE: Make sure each new dish is stored in the appropriate list."
   ]
  },
  {
   "cell_type": "code",
   "execution_count": 17,
   "metadata": {},
   "outputs": [],
   "source": [
    "friend_foods = foods.copy()"
   ]
  },
  {
   "cell_type": "code",
   "execution_count": 18,
   "metadata": {},
   "outputs": [],
   "source": [
    "foods.append(\"fries\")"
   ]
  },
  {
   "cell_type": "code",
   "execution_count": 19,
   "metadata": {},
   "outputs": [],
   "source": [
    "friend_foods.append(\"beafboti\")"
   ]
  },
  {
   "cell_type": "code",
   "execution_count": 20,
   "metadata": {},
   "outputs": [
    {
     "name": "stdout",
     "output_type": "stream",
     "text": [
      "['biryani', 'qorma', 'fried_fish', 'pizza', 'tikka', 'white_karahi', 'malai_boti', 'dhaga_kabab', 'chicken', 'fries']\n"
     ]
    }
   ],
   "source": [
    "print(foods)"
   ]
  },
  {
   "cell_type": "code",
   "execution_count": 21,
   "metadata": {},
   "outputs": [
    {
     "name": "stdout",
     "output_type": "stream",
     "text": [
      "['biryani', 'qorma', 'fried_fish', 'pizza', 'tikka', 'white_karahi', 'malai_boti', 'dhaga_kabab', 'chicken', 'beafboti']\n"
     ]
    }
   ],
   "source": [
    "print(friend_foods)"
   ]
  },
  {
   "cell_type": "code",
   "execution_count": 22,
   "metadata": {},
   "outputs": [
    {
     "name": "stdout",
     "output_type": "stream",
     "text": [
      "My favorite pizzas are: biryani\n",
      "My favorite pizzas are: qorma\n",
      "My favorite pizzas are: fried_fish\n",
      "My favorite pizzas are: pizza\n",
      "My favorite pizzas are: tikka\n",
      "My favorite pizzas are: white_karahi\n",
      "My favorite pizzas are: malai_boti\n",
      "My favorite pizzas are: dhaga_kabab\n",
      "My favorite pizzas are: chicken\n",
      "My favorite pizzas are: fries\n"
     ]
    }
   ],
   "source": [
    "for i in foods:\n",
    "    print(f\"My favorite pizzas are: {i}\")    "
   ]
  },
  {
   "cell_type": "code",
   "execution_count": 23,
   "metadata": {},
   "outputs": [
    {
     "name": "stdout",
     "output_type": "stream",
     "text": [
      "My favorite foods are: biryani\n",
      "My favorite foods are: qorma\n",
      "My favorite foods are: fried_fish\n",
      "My favorite foods are: pizza\n",
      "My favorite foods are: tikka\n",
      "My favorite foods are: white_karahi\n",
      "My favorite foods are: malai_boti\n",
      "My favorite foods are: dhaga_kabab\n",
      "My favorite foods are: chicken\n",
      "My favorite foods are: beafboti\n"
     ]
    }
   ],
   "source": [
    "for i in friend_foods :\n",
    "    print(f\"My favorite foods are: {i}\")    "
   ]
  },
  {
   "cell_type": "markdown",
   "metadata": {},
   "source": [
    "# Q9:"
   ]
  },
  {
   "cell_type": "markdown",
   "metadata": {},
   "source": [
    "Take a user input from console line.Store it in a variable called Alien_color.\n",
    "\n",
    "If the alien’s color is red, print a statement that the player just earned 5 points for shooting the alien.\n",
    "\n",
    "If the alien’s color isn’t green, print a statement that the player just earned 10 points.\n",
    "\n",
    "If the alien's color isn't red or green , print a statment :, Alien is no more....."
   ]
  },
  {
   "cell_type": "code",
   "execution_count": 24,
   "metadata": {},
   "outputs": [
    {
     "name": "stdout",
     "output_type": "stream",
     "text": [
      "Enter Alien colour :red\n",
      "The player just earned 5 points for shooting the alien.\n"
     ]
    }
   ],
   "source": [
    "Alien_colour = input(\"Enter Alien colour :\").lower()\n",
    "if Alien_colour == \"red\":\n",
    "    print('The player just earned 5 points for shooting the alien.')\n",
    "elif Alien_colour == \"green\":\n",
    "    print(\"The player just earned 10 points.\")\n",
    "else:\n",
    "    print(\"Alien is no more.\")"
   ]
  },
  {
   "cell_type": "code",
   "execution_count": 25,
   "metadata": {},
   "outputs": [
    {
     "name": "stdout",
     "output_type": "stream",
     "text": [
      "Enter Alien colour :green\n",
      "The player just earned 10 points.\n"
     ]
    }
   ],
   "source": [
    "Alien_colour = input(\"Enter Alien colour :\").lower()\n",
    "if Alien_colour == \"red\":\n",
    "    print('The player just earned 5 points for shooting the alien.')\n",
    "elif Alien_colour == \"green\":\n",
    "    print(\"The player just earned 10 points.\")\n",
    "else:\n",
    "    print(\"Alien is no more.\")"
   ]
  },
  {
   "cell_type": "code",
   "execution_count": 26,
   "metadata": {},
   "outputs": [
    {
     "name": "stdout",
     "output_type": "stream",
     "text": [
      "Enter Alien colour :blue\n",
      "Alien is no more.\n"
     ]
    }
   ],
   "source": [
    "Alien_colour = input(\"Enter Alien colour :\").lower()\n",
    "if Alien_colour == \"red\":\n",
    "    print('The player just earned 5 points for shooting the alien.')\n",
    "elif Alien_colour == \"green\":\n",
    "    print(\"The player just earned 10 points.\")\n",
    "else:\n",
    "    print(\"Alien is no more.\")"
   ]
  },
  {
   "cell_type": "markdown",
   "metadata": {},
   "source": [
    "# Q10:"
   ]
  },
  {
   "cell_type": "markdown",
   "metadata": {},
   "source": [
    "Write an if-elif-else chain that determines a person’s\n",
    "stage of life. Set a value for the variable age, and then:\n",
    "    \n",
    "•\t If the person is less than 2 years old, print a message that the person is a baby.\n",
    "\n",
    "•\t If the person is at least 2 years old but less than 4, print a message that the person is a toddler.\n",
    "\n",
    "•\t If the person is at least 4 years old but less than 13, print a message that the person is a kid.\n",
    "\n",
    "•\t If the person is at least 13 years old but less than 20, print a message that the person is a teenager.\n",
    "\n",
    "•\t If the person is at least 20 years old but less than 65, print a message that the person is an adult.\n",
    "\n",
    "•\t If the person is age 65 or older, print a message that the person is an elder."
   ]
  },
  {
   "cell_type": "code",
   "execution_count": 30,
   "metadata": {},
   "outputs": [
    {
     "name": "stdout",
     "output_type": "stream",
     "text": [
      "Enter your age :1\n",
      "You are a baby.\n"
     ]
    }
   ],
   "source": [
    "age = int(input(\"Enter your age :\"))\n",
    "if age<2:\n",
    "    print(\"You are a baby.\")\n",
    "elif age>=2 and age<4:\n",
    "    print(\"You are a toddler.\")\n",
    "elif age>=4 and age<13:\n",
    "    print(\"You are a kid.\")\n",
    "elif age>=13 and age<20:\n",
    "    print(\"You are a teenager.\")\n",
    "elif age>=20 and age<65:\n",
    "    print(\"You are an adult.\")\n",
    "elif age>=65:\n",
    "    print(\"You are an elder.\")"
   ]
  },
  {
   "cell_type": "code",
   "execution_count": 32,
   "metadata": {},
   "outputs": [
    {
     "name": "stdout",
     "output_type": "stream",
     "text": [
      "Enter your age :3\n",
      "You are a toddler.\n"
     ]
    }
   ],
   "source": [
    "age = int(input(\"Enter your age :\"))\n",
    "if age<2:\n",
    "    print(\"You are a baby.\")\n",
    "elif age>=2 and age<4:\n",
    "    print(\"You are a toddler.\")\n",
    "elif age>=4 and age<13:\n",
    "    print(\"You are a kid.\")\n",
    "elif age>=13 and age<20:\n",
    "    print(\"You are a teenager.\")\n",
    "elif age>=20 and age<65:\n",
    "    print(\"You are an adult.\")\n",
    "elif age>=65:\n",
    "    print(\"You are an elder.\")"
   ]
  },
  {
   "cell_type": "code",
   "execution_count": 33,
   "metadata": {},
   "outputs": [
    {
     "name": "stdout",
     "output_type": "stream",
     "text": [
      "Enter your age :8\n",
      "You are a kid.\n"
     ]
    }
   ],
   "source": [
    "age = int(input(\"Enter your age :\"))\n",
    "if age<2:\n",
    "    print(\"You are a baby.\")\n",
    "elif age>=2 and age<4:\n",
    "    print(\"You are a toddler.\")\n",
    "elif age>=4 and age<13:\n",
    "    print(\"You are a kid.\")\n",
    "elif age>=13 and age<20:\n",
    "    print(\"You are a teenager.\")\n",
    "elif age>=20 and age<65:\n",
    "    print(\"You are an adult.\")\n",
    "elif age>=65:\n",
    "    print(\"You are an elder.\")"
   ]
  },
  {
   "cell_type": "code",
   "execution_count": 34,
   "metadata": {},
   "outputs": [
    {
     "name": "stdout",
     "output_type": "stream",
     "text": [
      "Enter your age :15\n",
      "You are a teenager.\n"
     ]
    }
   ],
   "source": [
    "age = int(input(\"Enter your age :\"))\n",
    "if age<2:\n",
    "    print(\"You are a baby.\")\n",
    "elif age>=2 and age<4:\n",
    "    print(\"You are a toddler.\")\n",
    "elif age>=4 and age<13:\n",
    "    print(\"You are a kid.\")\n",
    "elif age>=13 and age<20:\n",
    "    print(\"You are a teenager.\")\n",
    "elif age>=20 and age<65:\n",
    "    print(\"You are an adult.\")\n",
    "elif age>=65:\n",
    "    print(\"You are an elder.\")"
   ]
  },
  {
   "cell_type": "code",
   "execution_count": 35,
   "metadata": {},
   "outputs": [
    {
     "name": "stdout",
     "output_type": "stream",
     "text": [
      "Enter your age :25\n",
      "You are an adult.\n"
     ]
    }
   ],
   "source": [
    "age = int(input(\"Enter your age :\"))\n",
    "if age<2:\n",
    "    print(\"You are a baby.\")\n",
    "elif age>=2 and age<4:\n",
    "    print(\"You are a toddler.\")\n",
    "elif age>=4 and age<13:\n",
    "    print(\"You are a kid.\")\n",
    "elif age>=13 and age<20:\n",
    "    print(\"You are a teenager.\")\n",
    "elif age>=20 and age<65:\n",
    "    print(\"You are an adult.\")\n",
    "elif age>=65:\n",
    "    print(\"You are an elder.\")"
   ]
  },
  {
   "cell_type": "code",
   "execution_count": 36,
   "metadata": {},
   "outputs": [
    {
     "name": "stdout",
     "output_type": "stream",
     "text": [
      "Enter your age :70\n",
      "You are an elder.\n"
     ]
    }
   ],
   "source": [
    "age = int(input(\"Enter your age :\"))\n",
    "if age<2:\n",
    "    print(\"You are a baby.\")\n",
    "elif age>=2 and age<4:\n",
    "    print(\"You are a toddler.\")\n",
    "elif age>=4 and age<13:\n",
    "    print(\"You are a kid.\")\n",
    "elif age>=13 and age<20:\n",
    "    print(\"You are a teenager.\")\n",
    "elif age>=20 and age<65:\n",
    "    print(\"You are an adult.\")\n",
    "elif age>=65:\n",
    "    print(\"You are an elder.\")"
   ]
  },
  {
   "cell_type": "markdown",
   "metadata": {},
   "source": [
    "# Q11:"
   ]
  },
  {
   "cell_type": "markdown",
   "metadata": {},
   "source": [
    "Do the following to create a program that simulates how websites ensure that everyone has a unique username.\n",
    "\n",
    "•\t Make a list of five or more usernames called current_users.\n",
    "\n",
    "•\t Make another list of five usernames called new_users. \n",
    "Make sure one or two of the new usernames are also in the current_users list.\n",
    "\n",
    "•\t Loop through the new_users list to see if each new username has already been used. \n",
    "If it has, print a message that the person will need to enter a new username. \n",
    "If a username has not been used, print a message saying that the username is available.\n",
    "\n",
    "•\t Make sure your comparison is case insensitive. If 'John' has been used, 'JOHN' should not be accepted."
   ]
  },
  {
   "cell_type": "code",
   "execution_count": 43,
   "metadata": {},
   "outputs": [],
   "source": [
    "current_users = [\"bilal\" , \"hasan\" , \"hamza\" , \"ahmed\" , \"faizan\" , \"subhan\"]\n",
    "new_users = [\"maaz\" , \"sufyan\" , \"Ali\" , \"faizan\" , \"subhan\"]"
   ]
  },
  {
   "cell_type": "code",
   "execution_count": 55,
   "metadata": {},
   "outputs": [
    {
     "name": "stdout",
     "output_type": "stream",
     "text": [
      "maaz is available\n",
      "sufyan is available\n",
      "Ali is available\n",
      "faizan is used, you have to enter a new username\n",
      "subhan is used, you have to enter a new username\n"
     ]
    }
   ],
   "source": [
    "for i in new_users:\n",
    "    if i in current_users:\n",
    "        print(f\"{i} is used, you have to enter a new username\")\n",
    "    else:\n",
    "        print(f\"{i} is available\")"
   ]
  },
  {
   "cell_type": "markdown",
   "metadata": {},
   "source": [
    "# Q12:"
   ]
  },
  {
   "cell_type": "markdown",
   "metadata": {},
   "source": [
    "Use a dictionary to store information about a person you know.\n",
    "Store their first name, last name, age, and the city in which they live. \n",
    "You should have keys such as first_name, last_name, age, and city. \n",
    "Print each piece of information stored in your dictionary"
   ]
  },
  {
   "cell_type": "code",
   "execution_count": 65,
   "metadata": {},
   "outputs": [
    {
     "name": "stdout",
     "output_type": "stream",
     "text": [
      "first_name Hasan\n",
      "last_name raza\n",
      "age 18\n",
      "city karachi\n"
     ]
    }
   ],
   "source": [
    "info = {'first_name':'Hasan' , 'last_name':'raza' , 'age':18 , 'city':'karachi'}\n",
    "for k,v in info.items():\n",
    "    print(k,v)"
   ]
  },
  {
   "cell_type": "markdown",
   "metadata": {},
   "source": [
    "# Q13:"
   ]
  },
  {
   "cell_type": "markdown",
   "metadata": {},
   "source": [
    "Starts with your last question 12 , loop through the dictionary’s keys and values.\n",
    "When you’re sure that your loop works, add five more Python terms to your\n",
    "dictionary . When you run your program again, these new words and meanings\n",
    "should automatically be included in the output."
   ]
  },
  {
   "cell_type": "code",
   "execution_count": 66,
   "metadata": {},
   "outputs": [
    {
     "name": "stdout",
     "output_type": "stream",
     "text": [
      "first_name = Hasan\n",
      "last_name = raza\n",
      "age = 18\n",
      "city = karachi\n"
     ]
    }
   ],
   "source": [
    "for k,v in info.items():\n",
    "    print(f\"{k} = {v}\")"
   ]
  },
  {
   "cell_type": "code",
   "execution_count": 71,
   "metadata": {},
   "outputs": [],
   "source": [
    "info['father_name']='MUHAMMAD JAWED'\n",
    "info['country']='PAKISTAN'\n",
    "info['qualification']='inter'\n",
    "info['gender']='male'\n",
    "info['num']=12345"
   ]
  },
  {
   "cell_type": "code",
   "execution_count": 72,
   "metadata": {},
   "outputs": [
    {
     "name": "stdout",
     "output_type": "stream",
     "text": [
      "first_name = Hasan\n",
      "last_name = raza\n",
      "age = 18\n",
      "city = karachi\n",
      "father_name = MUHAMMAD JAWED\n",
      "country = PAKISTAN\n",
      "qualification = inter\n",
      "gender = male\n",
      "num = 12345\n"
     ]
    }
   ],
   "source": [
    "for k,v in info.items():\n",
    "    print(f\"{k} = {v}\")"
   ]
  },
  {
   "cell_type": "markdown",
   "metadata": {},
   "source": [
    "# Q14:"
   ]
  },
  {
   "cell_type": "markdown",
   "metadata": {},
   "source": [
    "Make a dictionary containing three major rivers and the country\n",
    "each river runs through. One key-value pair might be 'nile': 'egypt'.\n",
    "    \n",
    "    \n",
    "•\t Use a loop to print a sentence about each river, such as The Nile runs\n",
    "through Egypt.\n",
    "\n",
    "NOTE: use upper case through keys and values."
   ]
  },
  {
   "cell_type": "code",
   "execution_count": 80,
   "metadata": {},
   "outputs": [
    {
     "name": "stdout",
     "output_type": "stream",
     "text": [
      "The NILE RIVER runs through EGYPT.\n",
      "The INDUS RIVER runs through PAKISTAN.\n",
      "The YELLOW RIVER runs through CHINA.\n"
     ]
    }
   ],
   "source": [
    "major_rivers = {\"nile river\":\"egypt\" , \"indus river\":\"pakistan\" , \"yellow river\":\"china\"}\n",
    "for k,v in major_rivers.items():\n",
    "    print(f\"The {k.upper()} runs through {v.upper()}.\")"
   ]
  },
  {
   "cell_type": "markdown",
   "metadata": {},
   "source": [
    "# Q15:"
   ]
  },
  {
   "cell_type": "markdown",
   "metadata": {},
   "source": [
    "Make several dictionaries, where the name of each dictionary is the\n",
    "name of a pet. In each dictionary, include the kind of animal and the owner’s\n",
    "name. Store these dictionaries in a list called pets. Next, loop through your list\n",
    "and as you do print everything you know about each pet."
   ]
  },
  {
   "cell_type": "code",
   "execution_count": 87,
   "metadata": {},
   "outputs": [
    {
     "name": "stdout",
     "output_type": "stream",
     "text": [
      "TOM is a  CAT of  HAMZA\n",
      "CHARLIE is a  PARROT of  FAIZAN\n",
      "PUPPY is a  DOG of  SHAHRUKH\n"
     ]
    }
   ],
   "source": [
    "TOM = {\"name\":'Tom' , \"kind\":'cat' , \"owner's name\":'Hamza'}\n",
    "CHARLIE = {\"name\":'charlie' , \"kind\":'parrot'  , \"owner's name\":'faizan'}\n",
    "PUPPY = {\"name\":'puppy' , \"kind\":'dog' , \"owner's name\":'shahrukh'}\n",
    "pets = [TOM,CHARLIE,PUPPY]\n",
    "for i in pets:\n",
    "     print(i[\"name\"].upper() , \"is a \" , i[\"kind\"].upper() , \"of \" , i[\"owner's name\"].upper()) \n"
   ]
  },
  {
   "cell_type": "code",
   "execution_count": null,
   "metadata": {},
   "outputs": [],
   "source": []
  }
 ],
 "metadata": {
  "kernelspec": {
   "display_name": "Python 3",
   "language": "python",
   "name": "python3"
  },
  "language_info": {
   "codemirror_mode": {
    "name": "ipython",
    "version": 3
   },
   "file_extension": ".py",
   "mimetype": "text/x-python",
   "name": "python",
   "nbconvert_exporter": "python",
   "pygments_lexer": "ipython3",
   "version": "3.7.3"
  }
 },
 "nbformat": 4,
 "nbformat_minor": 2
}
